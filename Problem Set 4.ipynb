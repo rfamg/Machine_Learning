{
 "cells": [
  {
   "cell_type": "markdown",
   "metadata": {},
   "source": [
    "# Problem Set 4\n",
    "* Rafael Martins Guimaraes",
    "\n",
    ""
   ]
  },
  {
   "cell_type": "markdown",
   "metadata": {},
   "source": [
    "## Problem 1"
   ]
  },
  {
   "cell_type": "code",
   "execution_count": 1,
   "metadata": {},
   "outputs": [],
   "source": [
    "# Import lots of tools\n",
    "import pandas as pd\n",
    "import numpy as np\n",
    "import matplotlib as mpl\n",
    "import matplotlib.pyplot as plt\n",
    "from sklearn.model_selection import train_test_split\n",
    "import mglearn\n",
    "\n",
    "# classification tools\n",
    "from sklearn.naive_bayes import GaussianNB\n",
    "\n",
    "from sklearn.tree import DecisionTreeClassifier\n",
    "\n",
    "# regression tools\n",
    "from sklearn.neighbors import KNeighborsRegressor\n",
    "from sklearn.linear_model import LinearRegression\n",
    "from sklearn.kernel_ridge import KernelRidge\n",
    "from sklearn.tree import DecisionTreeRegressor\n",
    "from sklearn.svm import LinearSVC\n",
    "from sklearn.svm import SVC"
   ]
  },
  {
   "cell_type": "code",
   "execution_count": 2,
   "metadata": {},
   "outputs": [
    {
     "data": {
      "image/png": "[encoded data removed]",
      "text/plain": [
       "<matplotlib.figure.Figure at 0x1c0d962978>"
      ]
     },
     "metadata": {},
     "output_type": "display_data"
    }
   ],
   "source": [
    "#Problem 1\n",
    "#Question 1\n",
    "def makeCircleClass(n):\n",
    "    X = np.random.normal(size=(n,2),loc=0,scale=1.)\n",
    "    d = X[:,0]**2. + X[:,1]**2.\n",
    "    dtype = d > 1.5\n",
    "    # This line blows up the x [:,1] dimension\n",
    "    X[:,1]*=50\n",
    "    y = dtype.astype(int)\n",
    "    return X,y\n",
    "\n",
    "X,y = makeCircleClass(100)\n",
    "# draw points\n",
    "width = 10\n",
    "height = 10\n",
    "plt.figure(figsize=(width, height))\n",
    "plt.rcParams.update({'font.size':15})\n",
    "mglearn.discrete_scatter(X[:, 0], X[:, 1], y)\n",
    "plt.legend([\"Class 0\", \"Class 1\"], loc=4)\n",
    "plt.xlabel(\"First feature\")\n",
    "plt.ylabel(\"Second feature\")\n",
    "plt.grid()"
   ]
  },
  {
   "cell_type": "code",
   "execution_count": 3,
   "metadata": {},
   "outputs": [
    {
     "name": "stdout",
     "output_type": "stream",
     "text": [
"0.5692499999999999\n",
"0.07525830518952709\n",
"0.5479999999999999\n",
"0.07525830518952709\n"
     ]
    }
   ],
   "source": [
    "#Question 2\n",
    "nmc = 50\n",
    "trainScore = np.zeros(nmc)\n",
    "testScore  = np.zeros(nmc)\n",
    "svl = LinearSVC(C=100.)\n",
    "for i in range(nmc):\n",
    "    X_train, X_test, y_train, y_test = train_test_split(X,y,test_size=0.2)\n",
    "    trainFit = svl.fit(X_train,y_train)\n",
    "    trainScore[i] = trainFit.score(X_train,y_train)\n",
    "    testScore[i] =  trainFit.score(X_test,y_test)\n",
    "print(np.mean(trainScore))\n",
    "print(np.std(trainScore))\n",
    "print(np.mean(testScore))\n",
    "print(np.std(trainScore))"
   ]
  },
  {
   "cell_type": "code",
   "execution_count": 4,
   "metadata": {},
   "outputs": [
    {
     "name": "stdout",
     "output_type": "stream",
     "text": [
"0.58175\n",
"0.05191399137034254\n",
"0.575\n",
"0.05191399137034254\n"
     ]
    }
   ],
   "source": [
    "#Question3\n",
    "nmc = 50\n",
    "trainScore = np.zeros(nmc)\n",
    "testScore  = np.zeros(nmc)\n",
    "svnl = SVC(C=1.,kernel='rbf',gamma=1.0)\n",
    "for i in range(nmc):\n",
    "    X_train, X_test, y_train, y_test = train_test_split(X,y,test_size=0.2)\n",
    "    trainFit = svnl.fit(X_train,y_train)\n",
    "    trainScore[i] = trainFit.score(X_train,y_train)\n",
    "    testScore[i] =  trainFit.score(X_test,y_test)\n",
    "print(np.mean(trainScore))\n",
    "print(np.std(trainScore))\n",
    "print(np.mean(testScore))\n",
    "print(np.std(trainScore))"
   ]
  },
  {
   "cell_type": "code",
   "execution_count": 5,
   "metadata": {},
   "outputs": [
    {
     "name": "stdout",
     "output_type": "stream",
     "text": [
"0.9932499999999999\n",
"0.006229967897188534\n",
"0.631\n",
"0.006229967897188534\n"
     ]
    }
   ],
   "source": [
    "#Question4\n",
    "nmc = 50\n",
    "trainScore = np.zeros(nmc)\n",
    "testScore  = np.zeros(nmc)\n",
    "svnl = SVC(C=1.,kernel='rbf',gamma=10.)\n",
    "for i in range(nmc):\n",
    "    X_train, X_test, y_train, y_test = train_test_split(X,y,test_size=0.2)\n",
    "    trainFit = svnl.fit(X_train,y_train)\n",
    "    trainScore[i] = trainFit.score(X_train,y_train)\n",
    "    testScore[i] =  trainFit.score(X_test,y_test)\n",
    "print(np.mean(trainScore))\n",
    "print(np.std(trainScore))\n",
    "print(np.mean(testScore))\n",
    "print(np.std(trainScore))"
   ]
  },
  {
   "cell_type": "code",
   "execution_count": 6,
   "metadata": {},
   "outputs": [
    {
     "name": "stdout",
     "output_type": "stream",
     "text": [
"1.0\n",
"0.0\n",
"0.5379999999999999\n",
"0.0\n"
     ]
    }
   ],
   "source": [
    "#Question5\n",
    "Xn = X / X.std(axis=0)\n",
    "nmc = 50\n",
    "trainScore = np.zeros(nmc)\n",
    "testScore  = np.zeros(nmc)\n",
    "svnl = SVC(C=1.,kernel='rbf',gamma=1.)\n",
    "for i in range(nmc):\n",
    "    X_train, X_test, y_train, y_test = train_test_split(Xn,y,test_size=0.2)\n",
    "    trainFit = svnl.fit(X_train,y_train)\n",
    "    trainScore[i] = trainFit.score(X_train,y_train)\n",
    "    testScore[i] =  trainFit.score(X_test,y_test)\n",
    "print(np.mean(trainScore))\n",
    "print(np.std(trainScore))\n",
    "print(np.mean(testScore))\n",
    "print(np.std(trainScore))"
   ]
  },
  {
   "cell_type": "code",
   "execution_count": 7,
   "metadata": {},
   "outputs": [
    {
     "name": "stdout",
     "output_type": "stream",
     "text": [
"0.9665\n",
"0.01793042107704112\n",
"0.9189999999999999\n",
"0.01793042107704112\n"
     ]
    }
   ],
   "source": [
    "#Question6\n",
    "nmc = 50\n",
    "trainScore = np.zeros(nmc)\n",
    "testScore  = np.zeros(nmc)\n",
    "svnl = SVC(kernel='poly',degree=2,gamma=1.0)\n",
    "for i in range(nmc):\n",
    "    X_train, X_test, y_train, y_test = train_test_split(X,y,test_size=0.2)\n",
    "    trainFit = svnl.fit(X_train,y_train)\n",
    "    trainScore[i] = trainFit.score(X_train,y_train)\n",
    "    testScore[i] =  trainFit.score(X_test,y_test)\n",
    "print(np.mean(trainScore))\n",
    "print(np.std(trainScore))\n",
    "print(np.mean(testScore))\n",
    "print(np.std(trainScore))"
   ]
  },
  {
   "cell_type": "code",
   "execution_count": 8,
   "metadata": {},
   "outputs": [
    {
     "name": "stdout",
     "output_type": "stream",
     "text": [
"0.9917499999999998\n",
"0.010188841936157414\n",
"0.982\n",
"0.010188841936157414\n"
     ]
    }
   ],
   "source": [
    "#Question7\n",
    "Xn = X / X.std(axis=0)\n",
    "nmc = 50\n",
    "trainScore = np.zeros(nmc)\n",
    "testScore  = np.zeros(nmc)\n",
    "svnl = SVC(kernel='poly',degree=2,gamma=1.0)\n",
    "for i in range(nmc):\n",
    "    X_train, X_test, y_train, y_test = train_test_split(Xn,y,test_size=0.2)\n",
    "    trainFit = svnl.fit(X_train,y_train)\n",
    "    trainScore[i] = trainFit.score(X_train,y_train)\n",
    "    testScore[i] =  trainFit.score(X_test,y_test)\n",
    "print(np.mean(trainScore))\n",
    "print(np.std(trainScore))\n",
    "print(np.mean(testScore))\n",
    "print(np.std(trainScore))"
   ]
  },
  {
   "cell_type": "markdown",
   "metadata": {},
   "source": [
    "## Problem 2"
   ]
  },
  {
   "cell_type": "code",
   "execution_count": 9,
   "metadata": {},
   "outputs": [],
   "source": [
    "# load default data set\n",
    "wineall = pd.read_csv(\"http://people.brandeis.edu/~blebaron/classes/bus241f/_downloads/winequality-red.csv\")\n",
    "# toss out id column (1)\n",
    "X = wineall.values[:,0:11].copy()\n",
    "y = wineall.quality.values"
   ]
  },
  {
   "cell_type": "code",
   "execution_count": 10,
   "metadata": {},
   "outputs": [
    {
     "data": {
      "text/html": [
       "<div>\n",
       "<style scoped>\n",
       "    .dataframe tbody tr th:only-of-type {\n",
       "        vertical-align: middle;\n",
       "    }\n",
       "\n",
       "    .dataframe tbody tr th {\n",
       "        vertical-align: top;\n",
       "    }\n",
       "\n",
       "    .dataframe thead th {\n",
       "        text-align: right;\n",
       "    }\n",
       "</style>\n",
       "<table border=\"1\" class=\"dataframe\">\n",
       "  <thead>\n",
       "    <tr style=\"text-align: right;\">\n",
       "      <th></th>\n",
       "      <th>fixedAcidity</th>\n",
       "      <th>volatileAcidity</th>\n",
       "      <th>citricAcid</th>\n",
       "      <th>residualSugar</th>\n",
       "      <th>chlorides</th>\n",
       "      <th>freeSulfurDioxide</th>\n",
       "      <th>totalSulfurDioxide</th>\n",
       "      <th>density</th>\n",
       "      <th>pH</th>\n",
       "      <th>sulphates</th>\n",
       "      <th>alcohol</th>\n",
       "      <th>quality</th>\n",
       "    </tr>\n",
       "  </thead>\n",
       "  <tbody>\n",
       "    <tr>\n",
       "      <th>0</th>\n",
       "      <td>7.4</td>\n",
       "      <td>0.70</td>\n",
       "      <td>0.00</td>\n",
       "      <td>1.9</td>\n",
       "      <td>0.076</td>\n",
       "      <td>11.0</td>\n",
       "      <td>34.0</td>\n",
       "      <td>0.9978</td>\n",
       "      <td>3.51</td>\n",
       "      <td>0.56</td>\n",
       "      <td>9.4</td>\n",
       "      <td>5</td>\n",
       "    </tr>\n",
       "    <tr>\n",
       "      <th>1</th>\n",
       "      <td>7.8</td>\n",
       "      <td>0.88</td>\n",
       "      <td>0.00</td>\n",
       "      <td>2.6</td>\n",
       "      <td>0.098</td>\n",
       "      <td>25.0</td>\n",
       "      <td>67.0</td>\n",
       "      <td>0.9968</td>\n",
       "      <td>3.20</td>\n",
       "      <td>0.68</td>\n",
       "      <td>9.8</td>\n",
       "      <td>5</td>\n",
       "    </tr>\n",
       "    <tr>\n",
       "      <th>2</th>\n",
       "      <td>7.8</td>\n",
       "      <td>0.76</td>\n",
       "      <td>0.04</td>\n",
       "      <td>2.3</td>\n",
       "      <td>0.092</td>\n",
       "      <td>15.0</td>\n",
       "      <td>54.0</td>\n",
       "      <td>0.9970</td>\n",
       "      <td>3.26</td>\n",
       "      <td>0.65</td>\n",
       "      <td>9.8</td>\n",
       "      <td>5</td>\n",
       "    </tr>\n",
       "    <tr>\n",
       "      <th>3</th>\n",
       "      <td>11.2</td>\n",
       "      <td>0.28</td>\n",
       "      <td>0.56</td>\n",
       "      <td>1.9</td>\n",
       "      <td>0.075</td>\n",
       "      <td>17.0</td>\n",
       "      <td>60.0</td>\n",
       "      <td>0.9980</td>\n",
       "      <td>3.16</td>\n",
       "      <td>0.58</td>\n",
       "      <td>9.8</td>\n",
       "      <td>6</td>\n",
       "    </tr>\n",
       "    <tr>\n",
       "      <th>4</th>\n",
       "      <td>7.4</td>\n",
       "      <td>0.70</td>\n",
       "      <td>0.00</td>\n",
       "      <td>1.9</td>\n",
       "      <td>0.076</td>\n",
       "      <td>11.0</td>\n",
       "      <td>34.0</td>\n",
       "      <td>0.9978</td>\n",
       "      <td>3.51</td>\n",
       "      <td>0.56</td>\n",
       "      <td>9.4</td>\n",
       "      <td>5</td>\n",
       "    </tr>\n",
       "  </tbody>\n",
       "</table>\n",
       "</div>"
      ],
      "text/plain": [
       "   fixedAcidity  volatileAcidity  citricAcid  residualSugar  chlorides  \\\n",
       "0           7.4             0.70        0.00            1.9      0.076   \n",
       "1           7.8             0.88        0.00            2.6      0.098   \n",
       "2           7.8             0.76        0.04            2.3      0.092   \n",
       "3          11.2             0.28        0.56            1.9      0.075   \n",
       "4           7.4             0.70        0.00            1.9      0.076   \n",
       "\n",
       "   freeSulfurDioxide  totalSulfurDioxide  density    pH  sulphates  alcohol  \\\n",
       "0               11.0                34.0   0.9978  3.51       0.56      9.4   \n",
       "1               25.0                67.0   0.9968  3.20       0.68      9.8   \n",
       "2               15.0                54.0   0.9970  3.26       0.65      9.8   \n",
       "3               17.0                60.0   0.9980  3.16       0.58      9.8   \n",
       "4               11.0                34.0   0.9978  3.51       0.56      9.4   \n",
       "\n",
       "   quality  \n",
       "0        5  \n",
       "1        5  \n",
       "2        5  \n",
       "3        6  \n",
       "4        5  "
      ]
     },
     "execution_count": 10,
     "metadata": {},
     "output_type": "execute_result"
    }
   ],
   "source": [
    "# display dataframe in nice table just to see\n",
    "wineall.head()"
   ]
  },
  {
   "cell_type": "code",
   "execution_count": 11,
   "metadata": {},
   "outputs": [],
   "source": [
    "# Note:Use test_size=0.2 throughout\n",
    "X_train, X_test, y_train, y_test = train_test_split(X,y,test_size=0.2)"
   ]
  },
  {
   "cell_type": "markdown",
   "metadata": {},
   "source": [
    "##  Naive Bayes:"
   ]
  },
  {
   "cell_type": "code",
   "execution_count": 12,
   "metadata": {},
   "outputs": [
    {
     "name": "stdout",
     "output_type": "stream",
     "text": [
"0.6630179827990618\n",
"-0.048545116002080446\n",
"0.696875\n",
"0.04745831249779886\n"
     ]
    }
   ],
   "source": [
    "# Naive Bayes classifier\n",
    "nbc =  GaussianNB()\n",
    "trainFit = nbc.fit(X_train,y_train)\n",
    "yGuess = np.mean(y_train)\n",
    "# print(trainFit.score(X_train,y_train))\n",
    "# print(trainFit.score(X_test, y_test))\n",
    "yhatTrain = trainFit.predict(X_train)\n",
    "yhatTest  = trainFit.predict(X_test)\n",
    "mseTrain = np.mean( (y_train-yhatTrain)**2)\n",
    "mseTest  = np.mean( (y_test -yhatTest) **2)\n",
    "mseGuessTrain = np.mean( (y_train - yGuess)**2)\n",
    "mseGuessTest  = np.mean( (y_test  - yGuess)**2)\n",
    "r2Train = 1. - mseTrain/mseGuessTrain\n",
    "r2Test  = 1. - mseTest/mseGuessTest\n",
    "print(mseTrain)\n",
    "print(r2Train)\n",
    "print(mseTest)\n",
    "print(r2Test)"
   ]
  },
  {
   "cell_type": "code",
   "execution_count": 11,
   "metadata": {},
   "outputs": [
    {
     "name": "stdout",
     "output_type": "stream",
     "text": [
"0.0\n",
"1.0\n",
"0.678125\n",
"0.07308723682521245\n"
     ]
    }
   ],
   "source": [
    "#Question 2\n",
    "treec = DecisionTreeClassifier()\n",
    "trainFit = treec.fit(X_train,y_train)\n",
    "yGuess = np.mean(y_train)\n",
    "# print(trainFit.score(X_train,y_train))\n",
    "# print(trainFit.score(X_test, y_test))\n",
    "yhatTrain = trainFit.predict(X_train)\n",
    "yhatTest  = trainFit.predict(X_test)\n",
    "mseTrain = np.mean( (y_train-yhatTrain)**2)\n",
    "mseTest  = np.mean( (y_test -yhatTest) **2)\n",
    "mseGuessTrain = np.mean( (y_train - yGuess)**2)\n",
    "mseGuessTest  = np.mean( (y_test  - yGuess)**2)\n",
    "r2Train = 1. - mseTrain/mseGuessTrain\n",
    "r2Test  = 1. - mseTest/mseGuessTest\n",
    "print(mseTrain)\n",
    "print(r2Train)\n",
    "print(mseTest)\n",
    "print(r2Test)"
   ]
  },
  {
   "cell_type": "code",
   "execution_count": 13,
   "metadata": {},
   "outputs": [],
   "source": [
    "#Question 3\n",
    "#The linear regression models is the best fit"
   ]
  },
  {
   "cell_type": "code",
   "execution_count": 14,
   "metadata": {},
   "outputs": [
    {
     "name": "stdout",
     "output_type": "stream",
     "text": [
"0.3618755218880959\n",
"0.34750981237705\n"
     ]
    }
   ],
   "source": [
    "#Question 4\n",
    "nmc = 50\n",
    "train_scores = np.zeros(nmc)\n",
    "test_scores = np.zeros(nmc)\n",
    "lr = LinearRegression()\n",
    "for i in range(50):\n",
    "    X_train, X_test, y_train, y_test = train_test_split(X,y,test_size=0.2)\n",
    "    trainFit = lr.fit(X_train,y_train)\n",
    "    yGuess = np.mean(y_train)\n",
    "    yhatTrain = trainFit.predict(X_train)\n",
    "    yhatTest  = trainFit.predict(X_test)\n",
    "    mseTrain = np.mean( (y_train-yhatTrain)**2)\n",
    "    mseTest  = np.mean( (y_test -yhatTest) **2)\n",
    "    mseGuessTrain = np.mean( (y_train - yGuess)**2)\n",
    "    mseGuessTest  = np.mean( (y_test  - yGuess)**2)\n",
    "    r2Train = 1. - mseTrain/mseGuessTrain\n",
    "    r2Test  = 1. - mseTest/mseGuessTest\n",
    "    train_scores[i] = r2Train\n",
    "    test_scores[i] = r2Test\n",
    "print(np.mean(train_scores))\n",
    "print(np.mean(test_scores))"
   ]
  },
  {
   "cell_type": "code",
   "execution_count": 17,
   "metadata": {},
   "outputs": [
    {
     "name": "stdout",
     "output_type": "stream",
     "text": [
      "Depth: 5\n",
      "0.4826468980967276\n",
      "0.26665244694332096\n",
      "Depth: 10\n",
      "0.8404344678744722\n",
      "0.13877512408123002\n",
      "Depth: 20\n",
      "0.999448756064499\n",
      "0.03435000233303632\n"
     ]
    }
   ],
   "source": [
    "#Question 5\n",
    "nmc = 50\n",
    "train_scores = np.zeros(nmc)\n",
    "test_scores = np.zeros(nmc)\n",
    "tr = DecisionTreeRegressor(max_depth=5)\n",
    "for i in range(50):\n",
    "    X_train, X_test, y_train, y_test = train_test_split(X,y,test_size=0.2)\n",
    "    trainFit = tr.fit(X_train,y_train)\n",
    "    yGuess = np.mean(y_train)\n",
    "    yhatTrain = trainFit.predict(X_train)\n",
    "    yhatTest  = trainFit.predict(X_test)\n",
    "    mseTrain = np.mean( (y_train-yhatTrain)**2)\n",
    "    mseTest  = np.mean( (y_test -yhatTest) **2)\n",
    "    mseGuessTrain = np.mean( (y_train - yGuess)**2)\n",
    "    mseGuessTest  = np.mean( (y_test  - yGuess)**2)\n",
    "    r2Train = 1. - mseTrain/mseGuessTrain\n",
    "    r2Test  = 1. - mseTest/mseGuessTest\n",
    "    train_scores[i] = r2Train\n",
    "    test_scores[i] = r2Test\n",
    "print(\"Depth: 5\")\n",
    "print(np.mean(train_scores))\n",
    "print(np.mean(test_scores))\n",
    "\n",
    "train_scores = np.zeros(nmc)\n",
    "test_scores = np.zeros(nmc)\n",
    "tr = DecisionTreeRegressor(max_depth=10)\n",
    "for i in range(50):\n",
    "    X_train, X_test, y_train, y_test = train_test_split(X,y,test_size=0.2)\n",
    "    trainFit = tr.fit(X_train,y_train)\n",
    "    yGuess = np.mean(y_train)\n",
    "    yhatTrain = trainFit.predict(X_train)\n",
    "    yhatTest  = trainFit.predict(X_test)\n",
    "    mseTrain = np.mean( (y_train-yhatTrain)**2)\n",
    "    mseTest  = np.mean( (y_test -yhatTest) **2)\n",
    "    mseGuessTrain = np.mean( (y_train - yGuess)**2)\n",
    "    mseGuessTest  = np.mean( (y_test  - yGuess)**2)\n",
    "    r2Train = 1. - mseTrain/mseGuessTrain\n",
    "    r2Test  = 1. - mseTest/mseGuessTest\n",
    "    train_scores[i] = r2Train\n",
    "    test_scores[i] = r2Test\n",
    "print(\"Depth: 10\")\n",
    "print(np.mean(train_scores))\n",
    "print(np.mean(test_scores))\n",
    "\n",
    "train_scores = np.zeros(nmc)\n",
    "test_scores = np.zeros(nmc)\n",
    "tr = DecisionTreeRegressor(max_depth=20)\n",
    "for i in range(50):\n",
    "    X_train, X_test, y_train, y_test = train_test_split(X,y,test_size=0.2)\n",
    "    trainFit = tr.fit(X_train,y_train)\n",
    "    yGuess = np.mean(y_train)\n",
    "    yhatTrain = trainFit.predict(X_train)\n",
    "    yhatTest  = trainFit.predict(X_test)\n",
    "    mseTrain = np.mean( (y_train-yhatTrain)**2)\n",
    "    mseTest  = np.mean( (y_test -yhatTest) **2)\n",
    "    mseGuessTrain = np.mean( (y_train - yGuess)**2)\n",
    "    mseGuessTest  = np.mean( (y_test  - yGuess)**2)\n",
    "    r2Train = 1. - mseTrain/mseGuessTrain\n",
    "    r2Test  = 1. - mseTest/mseGuessTest\n",
    "    train_scores[i] = r2Train\n",
    "    test_scores[i] = r2Test\n",
    "print(\"Depth: 20\")\n",
    "print(np.mean(train_scores))\n",
    "print(np.mean(test_scores))"
   ]
  },
  {
   "cell_type": "code",
   "execution_count": 15,
   "metadata": {},
   "outputs": [
    {
     "data": {
      "text/plain": [
       "(-1, 11)"
      ]
     },
     "execution_count": 15,
     "metadata": {},
     "output_type": "execute_result"
    },
    {
     "data": {
      "image/png": "[encoded data removed]",
      "text/plain": [
       "<matplotlib.figure.Figure at 0x1c168e2940>"
      ]
     },
     "metadata": {},
     "output_type": "display_data"
    }
   ],
   "source": [
    "#Question 6\n",
    "tr = DecisionTreeRegressor(max_depth=10)\n",
    "X_train, X_test, y_train, y_test = train_test_split(X,y,test_size=0.2,random_state=0)\n",
    "trainFit = tr.fit(X_train,y_train)\n",
    "\n",
    "n_features = X.shape[1]\n",
    "plt.barh(range(n_features), tr.feature_importances_, align='center')\n",
    "plt.yticks(np.arange(n_features), np.array(wineall.columns)[:11])\n",
    "plt.xlabel(\"Feature importance\")\n",
    "plt.ylabel(\"Feature\")\n",
    "plt.ylim(-1, n_features)\n"
   ]
  },
  {
   "cell_type": "code",
   "execution_count": 16,
   "metadata": {},
   "outputs": [
    {
     "name": "stdout",
     "output_type": "stream",
     "text": [
      "For max_depth of :5\n",
      "0.5489866937961179\n",
      "0.421531202112746\n",
      "For max_depth of :10\n",
      "0.8441670969155954\n",
      "0.44590712616614403\n",
      "For max_depth of :20\n",
      "0.9226803120435133\n",
      "0.4841663509408165\n"
     ]
    }
   ],
   "source": [
    "#Question 7\n",
    "from sklearn.ensemble import RandomForestRegressor\n",
    "max_depth = [5,10,20]\n",
    "\n",
    "for depth in max_depth:\n",
    "    X_train, X_test, y_train, y_test = train_test_split(X,y,test_size=0.2)\n",
    "    trainFit = RandomForestRegressor(n_estimators=50,max_depth=depth).fit(X_train,y_train)\n",
    "    yGuess = np.mean(y_train)\n",
    "    yhatTrain = trainFit.predict(X_train)\n",
    "    yhatTest  = trainFit.predict(X_test)\n",
    "    mseTrain = np.mean( (y_train-yhatTrain)**2)\n",
    "    mseTest  = np.mean( (y_test -yhatTest) **2)\n",
    "    mseGuessTrain = np.mean( (y_train - yGuess)**2)\n",
    "    mseGuessTest  = np.mean( (y_test  - yGuess)**2)\n",
    "    r2Train = 1. - mseTrain/mseGuessTrain\n",
    "    r2Test  = 1. - mseTest/mseGuessTest\n",
    "    train_scores[i] = r2Train\n",
    "    test_scores[i] = r2Test\n",
    "    print(\"For max_depth of :{}\".format(depth))\n",
    "    print(r2Train)\n",
    "    print(r2Test)"
   ]
  },
  {
   "cell_type": "code",
   "execution_count": 17,
   "metadata": {},
   "outputs": [
    {
     "name": "stdout",
     "output_type": "stream",
     "text": [
"0.983\n",
"0.012688577540449532\n",
"0.963\n",
"0.012688577540449532\n"
     ]
    }
   ],
   "source": [
    "#Question 8\n",
    "from sklearn.ensemble import GradientBoostingRegressor\n",
    "max_depth = [5,10,20]\n",
    "\n",
    "for depth in max_depth:\n",
    "    X_train, X_test, y_train, y_test = train_test_split(X,y,test_size=0.2)\n",
    "    trainFit = GradientBoostingRegressor(n_estimators=50,max_depth=depth).fit(X_train,y_train)\n",
    "    yGuess = np.mean(y_train)\n",
    "    yhatTrain = trainFit.predict(X_train)\n",
    "    yhatTest  = trainFit.predict(X_test)\n",
    "    mseTrain = np.mean( (y_train-yhatTrain)**2)\n",
    "    mseTest  = np.mean( (y_test -yhatTest) **2)\n",
    "    mseGuessTrain = np.mean( (y_train - yGuess)**2)\n",
    "    mseGuessTest  = np.mean( (y_test  - yGuess)**2)\n",
    "    r2Train = 1. - mseTrain/mseGuessTrain\n",
    "    r2Test  = 1. - mseTest/mseGuessTest\n",
    "    train_scores[i] = r2Train\n",
    "    test_scores[i] = r2Test\n",
    "    print(\"For max_depth of :{}\".format(depth))\n",
    "    print(r2Train)\n",
    "    print(r2Test)"
   ]
  },
  {
   "cell_type": "code",
   "execution_count": null,
   "metadata": {},
   "outputs": [],
   "source": []
  }
 ],
 "metadata": {
  "kernelspec": {
   "display_name": "Python 3",
   "language": "python",
   "name": "python3"
  },
  "language_info": {
   "codemirror_mode": {
    "name": "ipython",
    "version": 3
   },
   "file_extension": ".py",
   "mimetype": "text/x-python",
   "name": "python",
   "nbconvert_exporter": "python",
   "pygments_lexer": "ipython3",
   "version": "3.6.4"
  }
 },
 "nbformat": 4,
 "nbformat_minor": 2
}
