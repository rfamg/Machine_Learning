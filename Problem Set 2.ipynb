{
 "cells": [
  {
   "cell_type": "markdown",
   "metadata": {},
   "source": [
    "## Problem Set 2"
   ]
  },
  {
   "cell_type": "markdown",
   "metadata": {},
   "source": [
    "##### Packages loaded "
   ]
  },
  {
   "cell_type": "code",
   "execution_count": null,
   "metadata": {},
   "outputs": [],
   "source": [
    "import numpy as np\n",
    "from sklearn.model_selection import train_test_split\n",
    "from sklearn.linear_model import LinearRegression\n",
    "from sklearn.linear_model import Ridge\n",
    "from sklearn.linear_model import Lasso\n",
    "import matplotlib as mpl\n",
    "import matplotlib.pyplot as plt"
   ]
  },
  {
   "cell_type": "code",
   "execution_count": null,
   "metadata": {},
   "outputs": [],
   "source": [
    "# Function to generate linear data experiments\n",
    "def genLinData(N,M,noise):\n",
    "    # y = x_1 + x_2 .. x_M + eps\n",
    "    # X's scaled so the variance of explained part is same order as noise variance (if eps = 1)\n",
    "    sigNoise = np.sqrt(1./M)\n",
    "    # set up random beta for regression\n",
    "    beta = np.random.normal(size=(M,1),loc=0.,scale=1.)\n",
    "    # force smaller betas to zero\n",
    "    beta[abs(beta)<1.0]=0.\n",
    "    # bused is the fraction of nonzero beta's\n",
    "    bused= np.sum( abs(beta)>0.)\n",
    "    X = np.random.normal(size=(N,M),loc=0,scale=sigNoise)\n",
    "    eps = np.random.normal(size=(N,1),loc=0,scale=noise)\n",
    "    # Python 2.7 users, this is the nifty new\n",
    "    # python 3.6 notation for matrices\n",
    "    # For nonmatrix students, this is the sum of the betas's time each X(m)\n",
    "    # across all i\n",
    "    y = X @ beta + eps\n",
    "    return X,y, bused"
   ]
  },
  {
   "cell_type": "markdown",
   "metadata": {},
   "source": [
    "#### First, generate one set of X,y data of length 300, with M = 50 forecast variables, and noise=1. Do a short (100) monte-carlo run with the same set of data, but different random train/test splits (don’t use the random_state parameter since that fixes the random draws). Set the test_size = 0.5 for all problems here. On each split fit a linear regression and record the train and test score (R-squared). Report the mean and standard deviation for both of these across the 100 monte-carlos."
   ]
  },
  {
   "cell_type": "code",
   "execution_count": 49,
   "metadata": {},
   "outputs": [
    {
     "name": "stdout",
     "output_type": "stream",
     "text": [
      "Training set mean: 0.6022051607334787\n",
      "Training set SD: 0.04422478216971354\n",
      "Test set mean: 0.08287258676309495\n",
      "Test set SD: 0.11492495775387877\n"
     ]
    }
   ],
   "source": [
    "X,y,z = genLinData(300,50,1)\n",
    "train = []\n",
    "test = []\n",
    "for i in range(1, 301):\n",
    "    X_train, X_test, y_train, y_test = train_test_split(X, y, test_size = 0.5)\n",
    "    lr = LinearRegression().fit(X_train, y_train)\n",
    "    train.append(lr.score(X_train, y_train))\n",
    "    test.append(lr.score(X_test, y_test))\n",
    "    \n",
    "print(\"Training set mean:\", np.mean(train))\n",
    "print(\"Training set SD:\", np.std(train))\n",
    "print(\"Test set mean:\", np.mean(test))\n",
    "print(\"Test set SD:\", np.std(test)) "
   ]
  },
  {
   "cell_type": "markdown",
   "metadata": {},
   "source": [
    "#### Run this regression once on a sample size of 100,000. Report train and test scores. Are they close? Why or why not?"
   ]
  },
  {
   "cell_type": "code",
   "execution_count": null,
   "metadata": {},
   "outputs": [],
   "source": [
    "k = 100000\n",
    "X,y,z = genLinData(k,50,1)\n",
    "train = np.ones(k)\n",
    "test = np.ones(k)\n",
    "for i in range(0, k):\n",
    "    X_train, X_test, y_train, y_test = train_test_split(X, y, test_size = 0.5)\n",
    "    lr = LinearRegression().fit(X_train, y_train)\n",
    "    train[i] = lr.score(X_train, y_train)\n",
    "    test[i] = lr.score(X_test, y_test)\n",
    "print(\"Training set mean:\", np.mean(train))\n",
    "print(\"Training set SD:\", np.std(train))\n",
    "print(\"Test set mean:\", np.mean(test))\n",
    "print(\"Test set SD:\", np.std(test))"
   ]
  },
  {
   "cell_type": "code",
   "execution_count": 50,
   "metadata": {},
   "outputs": [],
   "source": [
    "# Yes, they are close because linear regression performs better with large datasets. \n",
    "# In case of small datasets,\n",
    "# linear regression underfits the data most of the times."
   ]
  },
  {
   "cell_type": "markdown",
   "metadata": {},
   "source": [
    "#### Now, run a monte-carlo where on each run you draw a new data set (X,y) from a sample size of 300 (M=50, noise = 1.0) using the above function. On each run estimate a linear model, and record the training and testing scores, and save them. Report the mean and standard deviation for each of these."
   ]
  },
  {
   "cell_type": "code",
   "execution_count": 51,
   "metadata": {},
   "outputs": [
    {
     "name": "stdout",
     "output_type": "stream",
     "text": [
      "Training set mean: 0.6243975465802747\n",
      "Training set SD: 0.06439563132832256\n",
      "Test set mean: 0.1288056037096003\n",
      "Test set SD: 0.17465328091478402\n"
     ]
    }
   ],
   "source": [
    "train = []\n",
    "test = []\n",
    "for i in range(1, 301):\n",
    "    X,y,z = genLinData(300,50,1)\n",
    "    X_train, X_test, y_train, y_test = train_test_split(X, y, test_size = 0.5)\n",
    "    lr = LinearRegression().fit(X_train, y_train)\n",
    "    train.append(lr.score(X_train, y_train))\n",
    "    test.append(lr.score(X_test, y_test))\n",
    "    \n",
    "print(\"Training set mean:\", np.mean(train))\n",
    "print(\"Training set SD:\", np.std(train))\n",
    "print(\"Test set mean:\", np.mean(test))\n",
    "print(\"Test set SD:\", np.std(test))"
   ]
  },
  {
   "cell_type": "markdown",
   "metadata": {},
   "source": [
    "#### Simulate one new data set using the parameters from the last problem. Now set up a Ridge regression. Set up a loop to sweep through alpha from 1 to 25 incremented by 1. Record the score for each ridge regression for each parameter. At the end, plot the R-squared scores for both the training and testing samples across the different values of alpha."
   ]
  },
  {
   "cell_type": "code",
   "execution_count": 52,
   "metadata": {},
   "outputs": [
    {
     "data": {
      "text/plain": [
       "<matplotlib.legend.Legend at 0x1a2beb6fd0>"
      ]
     },
     "execution_count": 52,
     "metadata": {},
     "output_type": "execute_result"
    },
    {
     "data": {
      "image/png": "[encoded data removed]",
      "text/plain": [
       "<matplotlib.figure.Figure at 0x1a2a7d95f8>"
      ]
     },
     "metadata": {},
     "output_type": "display_data"
    }
   ],
   "source": [
    "tr = []\n",
    "te = []\n",
    "b = 0\n",
    "a = np.ones(25)\n",
    "X,y,z = genLinData(300,50,1)\n",
    "X_train, X_test, y_train, y_test = train_test_split(X, y, test_size = 0.5)\n",
    "for i in range(1, 26):\n",
    "    ridge = Ridge(alpha=i).fit(X_train, y_train)\n",
    "    tr.append(ridge.score(X_train, y_train))\n",
    "    te.append(ridge.score(X_test, y_test))\n",
    "    a[b] = i\n",
    "    b = b+1\n",
    "plt.plot(a, tr, label=\"training accuracy\")\n",
    "plt.plot(a, te, label=\"test accuracy\")   \n",
    "plt.xlabel(\"Alpha\")\n",
    "plt.ylabel(\"Accuracy\")\n",
    "plt.legend()"
   ]
  },
  {
   "cell_type": "markdown",
   "metadata": {},
   "source": [
    "#### Now repeat this for a Lasso regression. However, this time sweep the alpha parameter from 0.01 through 0.03 incremented by 0.0005. Plot the two scores as you did in the last problem. Also, this time plot the number of non zero coefficients estimated by Ridge as a fraction of the true non zero coefficients from the simulation."
   ]
  },
  {
   "cell_type": "code",
   "execution_count": 53,
   "metadata": {},
   "outputs": [
    {
     "data": {
      "text/plain": [
       "<matplotlib.legend.Legend at 0x1a2c1c3ef0>"
      ]
     },
     "execution_count": 53,
     "metadata": {},
     "output_type": "execute_result"
    },
    {
     "data": {
      "image/png": "[encoded data removed]",
      "text/plain": [
       "<matplotlib.figure.Figure at 0x1a1caf04e0>"
      ]
     },
     "metadata": {},
     "output_type": "display_data"
    }
   ],
   "source": [
    "tr = []\n",
    "te = []\n",
    "b = 0\n",
    "a = np.ones(40)\n",
    "X,y,z = genLinData(300,50,1)\n",
    "X_train, X_test, y_train, y_test = train_test_split(X, y, test_size = 0.5)\n",
    "for i in np.arange(0.01, 0.03, 0.0005):\n",
    "    lasso = Lasso(alpha=i).fit(X_train, y_train)\n",
    "    tr.append(lasso.score(X_train, y_train))\n",
    "    te.append(lasso.score(X_test, y_test))\n",
    "    a[b] = i\n",
    "    b = b+1\n",
    "plt.plot(a, tr, label=\"training accuracy\")\n",
    "plt.plot(a, te, label=\"test accuracy\")   \n",
    "plt.xlabel(\"Alpha\")\n",
    "plt.ylabel(\"Accuracy\")\n",
    "plt.legend()"
   ]
  }
 ],
 "metadata": {
  "kernelspec": {
   "display_name": "Python 3",
   "language": "python",
   "name": "python3"
  },
  "language_info": {
   "codemirror_mode": {
    "name": "ipython",
    "version": 3
   },
   "file_extension": ".py",
   "mimetype": "text/x-python",
   "name": "python",
   "nbconvert_exporter": "python",
   "pygments_lexer": "ipython3",
   "version": "3.6.3"
  }
 },
 "nbformat": 4,
 "nbformat_minor": 2
}
